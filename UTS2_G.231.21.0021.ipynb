{
  "nbformat": 4,
  "nbformat_minor": 0,
  "metadata": {
    "colab": {
      "provenance": [],
      "authorship_tag": "ABX9TyPFre1B6mZbGS/fPEIur2eM",
      "include_colab_link": true
    },
    "kernelspec": {
      "name": "python3",
      "display_name": "Python 3"
    },
    "language_info": {
      "name": "python"
    }
  },
  "cells": [
    {
      "cell_type": "markdown",
      "metadata": {
        "id": "view-in-github",
        "colab_type": "text"
      },
      "source": [
        "<a href=\"https://colab.research.google.com/github/DanielJohanKristian/UTS_G.231.21.0021_Daniel-Johan-Kristian/blob/main/UTS2_G.231.21.0021.ipynb\" target=\"_parent\"><img src=\"https://colab.research.google.com/assets/colab-badge.svg\" alt=\"Open In Colab\"/></a>"
      ]
    },
    {
      "cell_type": "code",
      "source": [
        "import pandas\n",
        "\n",
        "df = pandas.read_csv(\"CADdataset.csv\")\n",
        "\n",
        "print(df)"
      ],
      "metadata": {
        "colab": {
          "base_uri": "https://localhost:8080/"
        },
        "id": "kLQp5GAtA-pY",
        "outputId": "7a30cda0-a6c3-46a8-aaec-c69cf0d0d9d8"
      },
      "execution_count": null,
      "outputs": [
        {
          "output_type": "stream",
          "name": "stdout",
          "text": [
            "     Age  Weight  Height    Sex          BMI  DM      HTN Current Smoker  \\\n",
            "0     53      90     175   Male   29.3877551   0        1              1   \n",
            "1     67      70     157  Fmale    28.398718   0        1              0   \n",
            "2     54      54     164   Male  20.07733492   0        0              1   \n",
            "3     66      67     158  Fmale  26.83864765   0        1              0   \n",
            "4     50      87     153  Fmale  37.16519287   0        1              0   \n",
            "..   ...     ...     ...    ...          ...  ..      ...            ...   \n",
            "299   55      64     152  Fmale  27.70083102   0        0              0   \n",
            "300   48      77     160  Fmale    30.078125   0        1              0   \n",
            "301   57      90     159  Fmale   35.5998576   1        0              0   \n",
            "302   56      85     170  Fmale  29.41176471   0        1              1   \n",
            "303  Age  Weight  Length    Sex          BMI  DM  Insulin   Beta blocker   \n",
            "\n",
            "    Obesity     DLP  ... LVH  PRP    FBS   ESR    EF  RWMA EX-Smoker   CR  \\\n",
            "0         Y       Y  ...   N    N   90.0   7.0  50.0   0.0       0.0  0.7   \n",
            "1         Y       N  ...   N    N   80.0  26.0  40.0   4.0       0.0  1.0   \n",
            "2         N       N  ...   N    N   85.0  10.0  40.0   2.0       0.0  1.0   \n",
            "3         Y       N  ...   N    N   78.0  76.0  55.0   0.0       0.0  1.2   \n",
            "4         Y       N  ...   N    N  104.0  27.0  50.0   0.0       0.0  1.0   \n",
            "..      ...     ...  ...  ..  ...    ...   ...   ...   ...       ...  ...   \n",
            "299       Y       N  ...   N    N   86.0   3.0  40.0   0.0       0.0  0.9   \n",
            "300       Y       N  ...   N    N   83.0  20.0  55.0   0.0       0.0  1.0   \n",
            "301       Y       N  ...   N    N   96.0  31.0  55.0   0.0       0.0  1.0   \n",
            "302       Y       N  ...   N    N   78.0  13.0  55.0   0.0       0.0  0.7   \n",
            "303  Statin  Nitrat  ...  FH  NaN    NaN   NaN   NaN   NaN       NaN  NaN   \n",
            "\n",
            "      BUN     CAD  \n",
            "0     8.0     Cad  \n",
            "1    30.0     Cad  \n",
            "2    17.0     Cad  \n",
            "3    30.0  Normal  \n",
            "4    16.0  Normal  \n",
            "..    ...     ...  \n",
            "299  23.0  Normal  \n",
            "300  13.0  Normal  \n",
            "301  14.0  Normal  \n",
            "302  16.0     Cad  \n",
            "303   NaN     NaN  \n",
            "\n",
            "[304 rows x 27 columns]\n"
          ]
        }
      ]
    },
    {
      "cell_type": "code",
      "source": [
        "features = ['Age', 'CAD', 'Sex', 'Height']\n",
        "\n",
        "X = df[features]\n",
        "y = df['DLP']\n",
        "\n",
        "print(X)\n",
        "print(y)"
      ],
      "metadata": {
        "colab": {
          "base_uri": "https://localhost:8080/"
        },
        "id": "OKb9jTqhDZ4O",
        "outputId": "626d0941-b79d-4863-e511-1c324410cbf7"
      },
      "execution_count": null,
      "outputs": [
        {
          "output_type": "stream",
          "name": "stdout",
          "text": [
            "     Age     CAD    Sex  Height\n",
            "0     53     Cad   Male     175\n",
            "1     67     Cad  Fmale     157\n",
            "2     54     Cad   Male     164\n",
            "3     66  Normal  Fmale     158\n",
            "4     50  Normal  Fmale     153\n",
            "..   ...     ...    ...     ...\n",
            "299   55  Normal  Fmale     152\n",
            "300   48  Normal  Fmale     160\n",
            "301   57  Normal  Fmale     159\n",
            "302   56     Cad  Fmale     170\n",
            "303  Age     NaN    Sex  Length\n",
            "\n",
            "[304 rows x 4 columns]\n",
            "0           Y\n",
            "1           N\n",
            "2           N\n",
            "3           N\n",
            "4           N\n",
            "        ...  \n",
            "299         N\n",
            "300         N\n",
            "301         N\n",
            "302         N\n",
            "303    Nitrat\n",
            "Name: DLP, Length: 304, dtype: object\n"
          ]
        }
      ]
    }
  ]
}